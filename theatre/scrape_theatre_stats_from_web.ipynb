{
 "cells": [
  {
   "cell_type": "code",
   "execution_count": 1,
   "metadata": {
    "collapsed": false,
    "deletable": true,
    "editable": true
   },
   "outputs": [],
   "source": [
    "from ediblepickle import checkpoint\n",
    "import os\n",
    "\n",
    "cache_dir = 'cache'\n",
    "if not os.path.exists(cache_dir):\n",
    "    os.mkdir(cache_dir)\n",
    "\n",
    "#@checkpoint(key=lambda args, kwargs: args[0] + '.p', work_dir=cache_dir)\n",
    "def fetch_weekly_theatre_stats(start_day):\n",
    "    url_ = \"http://www.broadwayworld.com/grosses.cfm\"\n",
    "    import requests\n",
    "    result = requests.post(url_, params = {'days':start_day})\n",
    "    return result.content\n",
    "\n",
    "def all_available_dates():\n",
    "    from pyquery import PyQuery\n",
    "    url_ = \"http://www.broadwayworld.com/grosses.cfm\"\n",
    "    import requests\n",
    "    result = requests.post(url_, params = {'days':'2016-03-06'}) # a random day\n",
    "    dom=PyQuery(result.content)\n",
    "    return sorted(dom.find('select').find('option').map(lambda op: this.text))\n",
    "\n",
    "all_dates = all_available_dates()\n",
    "dates_of_interest = [datestr for datestr in all_dates if int(datestr[:4])>=2009]"
   ]
  },
  {
   "cell_type": "code",
   "execution_count": 7,
   "metadata": {
    "collapsed": true,
    "deletable": true,
    "editable": true
   },
   "outputs": [],
   "source": [
    "from bs4 import BeautifulSoup\n",
    "def td_texts(html_str):\n",
    "    soup = BeautifulSoup(html_str, 'html.parser')\n",
    "    return [col.get_text().strip() for col in soup.find_all('td')]\n",
    "\n",
    "global _row\n",
    "def scrape_show_stats(dom):\n",
    "    show_stats = []\n",
    "    header_row = dom.find(\"table TR[style *= 'background-color:black']\")\n",
    "    table_rows = dom.find(\"table TR[onmouseover *= '#FFFF99']\")\n",
    "    for row_ in table_rows:\n",
    "        _row = PyQuery(row_)\n",
    "        if _row.find('Td') is None:\n",
    "            continue\n",
    "        show_name = _row.find('Td:first').find(\"a[href *= '/grosses/']\")\n",
    "        theatre_name = _row.find('Td:first').find(\"a[href *= '/grossestheater/']\")\n",
    "        if len(_row.find('Td:first').find(\"a[href *= '/grosses/']\")) > 0:\n",
    "            if len(_row.find('Td:first').find(\"a[href *= '/grossestheater/']\")) > 0:\n",
    "                try:\n",
    "                    ro_info = dict(zip(td_texts(header_row.html()), td_texts(_row.html())))\n",
    "                    ro_info['Show'] = show_name.text()\n",
    "                    ro_info['Theatre'] = theatre_name.text()\n",
    "                    show_stats.append(ro_info)\n",
    "                except TypeError as e:\n",
    "                    pass\n",
    "    return show_stats"
   ]
  },
  {
   "cell_type": "code",
   "execution_count": null,
   "metadata": {
    "collapsed": false,
    "deletable": true,
    "editable": true
   },
   "outputs": [],
   "source": [
    "len(dat)"
   ]
  },
  {
   "cell_type": "markdown",
   "metadata": {
    "deletable": true,
    "editable": true
   },
   "source": [
    "### Scraping MainLoop below"
   ]
  },
  {
   "cell_type": "code",
   "execution_count": null,
   "metadata": {
    "collapsed": false,
    "deletable": true,
    "editable": true
   },
   "outputs": [],
   "source": [
    "from time import sleep\n",
    "from pyquery import PyQuery\n",
    "htmls = {}\n",
    "dat = {}\n",
    "for date_ in dates_of_interest:\n",
    "    all_html = fetch_weekly_theatre_stats(date_)\n",
    "    htmls[date_] = all_html\n",
    "    dat[date_] = scrape_show_stats(PyQuery(all_html))\n",
    "    sleep(20)"
   ]
  },
  {
   "cell_type": "code",
   "execution_count": null,
   "metadata": {
    "collapsed": false,
    "deletable": true,
    "editable": true
   },
   "outputs": [],
   "source": []
  },
  {
   "cell_type": "markdown",
   "metadata": {
    "deletable": true,
    "editable": true
   },
   "source": [
    "### Changiong string values to integer or float"
   ]
  },
  {
   "cell_type": "code",
   "execution_count": null,
   "metadata": {
    "collapsed": false,
    "deletable": true,
    "editable": true
   },
   "outputs": [],
   "source": [
    "def clean_var(st):\n",
    "    if (type(st) is not unicode) and (type(st) is not str):\n",
    "        return st\n",
    "    st2=st.replace(\"%\",\"\").replace(\"$\",\"\").replace(\",\",\"\")\n",
    "    try:\n",
    "        tmp = float(st2)\n",
    "    except Exception as e:\n",
    "        return st\n",
    "    if abs(tmp%1) < .00000001:\n",
    "        return int(tmp)\n",
    "    return tmp\n",
    "\n",
    "def clean_theatre_doc(doc):\n",
    "    for k,v in doc.items():\n",
    "        if k in ['Theatre', 'Show']:\n",
    "            continue\n",
    "        doc[k] = clean_var(v)\n",
    "    return doc"
   ]
  },
  {
   "cell_type": "markdown",
   "metadata": {
    "deletable": true,
    "editable": true
   },
   "source": [
    "### Saving the result to disk using dill"
   ]
  },
  {
   "cell_type": "code",
   "execution_count": null,
   "metadata": {
    "collapsed": true,
    "deletable": true,
    "editable": true
   },
   "outputs": [],
   "source": [
    "import dill\n",
    "dill.dump(dat, open('all_theatre_scraped2009_to_2017.pkd', 'w'))"
   ]
  },
  {
   "cell_type": "code",
   "execution_count": null,
   "metadata": {
    "collapsed": true
   },
   "outputs": [],
   "source": [
    "import dill\n",
    "dat = dill.load(open('all_theatre_scraped2009_to_2017.pkd', 'r'))"
   ]
  },
  {
   "cell_type": "code",
   "execution_count": null,
   "metadata": {
    "collapsed": false,
    "deletable": true,
    "editable": true
   },
   "outputs": [],
   "source": [
    "# more data cleaning\n",
    "for date_,docs in dat.items():\n",
    "    for doc in docs:\n",
    "         try:\n",
    "            doc['Theatre'] = doc['Theatre'].replace(\".\",\"\").lower()\n",
    "            doc[\"_id\"] =date_ +\"_\"+ doc['Theatre'].title()\n",
    "            doc[\"date\"]=date_\n",
    "            doc[\"Show\"]=doc[\"Show\"].lower()\n",
    "            save_doc(clean_theatre_doc(doc))  # save_doc to be implemented\n",
    "        except Exception as e:\n",
    "            print e\n",
    "            print doc"
   ]
  }
 ],
 "metadata": {
  "kernelspec": {
   "display_name": "Python 2",
   "language": "python",
   "name": "python2"
  },
  "language_info": {
   "codemirror_mode": {
    "name": "ipython",
    "version": 2
   },
   "file_extension": ".py",
   "mimetype": "text/x-python",
   "name": "python",
   "nbconvert_exporter": "python",
   "pygments_lexer": "ipython2",
   "version": "2.7.11"
  }
 },
 "nbformat": 4,
 "nbformat_minor": 2
}
